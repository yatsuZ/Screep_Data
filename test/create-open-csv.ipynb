{
 "cells": [
  {
   "cell_type": "code",
   "execution_count": 1,
   "id": "8787a19c-0ab9-44ee-ba8e-71f3c6ee0cce",
   "metadata": {},
   "outputs": [
    {
     "ename": "SyntaxError",
     "evalue": "unmatched ')' (2080903454.py, line 4)",
     "output_type": "error",
     "traceback": [
      "\u001b[1;36m  File \u001b[1;32m\"C:\\Users\\yatsu\\AppData\\Local\\Temp\\ipykernel_1168\\2080903454.py\"\u001b[1;36m, line \u001b[1;32m4\u001b[0m\n\u001b[1;33m    writer.writerows(data))\u001b[0m\n\u001b[1;37m                          ^\u001b[0m\n\u001b[1;31mSyntaxError\u001b[0m\u001b[1;31m:\u001b[0m unmatched ')'\n"
     ]
    }
   ],
   "source": [
    "with open('test.csv', 'wt',encoding='utf-8') as file:\n",
    "    writer = csv.writer(file)\n",
    "    writer.writerow(['Arrondissement', 'Neighborhood', 'Price', 'PriceMeter','MeterTot','RoomNbr','DescripAppart','DescripQuartier'])    \n",
    "    writer.writerows(data))"
   ]
  },
  {
   "cell_type": "code",
   "execution_count": 2,
   "id": "a5d2380b-6a03-4cce-b754-252840ded2f4",
   "metadata": {},
   "outputs": [],
   "source": [
    "import csv \n",
    "\n",
    "# Création du fichier CSV\n",
    "with open('test.csv', 'w', newline='') as f:\n",
    "    writer = csv.writer(f)\n",
    "    writer.writerow(['id', 'nom', 'prenom']) # Entête\n",
    "    writer.writerows([[1, \"bob\", \"jack\"],[2, \"rick\", \"sanchez\"],[3, \"Jakie\", \"tornoz\"]])"
   ]
  },
  {
   "cell_type": "code",
   "execution_count": null,
   "id": "c5518bc7-9915-4b45-b040-26914bb7f30a",
   "metadata": {},
   "outputs": [],
   "source": []
  }
 ],
 "metadata": {
  "kernelspec": {
   "display_name": "Python 3 (ipykernel)",
   "language": "python",
   "name": "python3"
  },
  "language_info": {
   "codemirror_mode": {
    "name": "ipython",
    "version": 3
   },
   "file_extension": ".py",
   "mimetype": "text/x-python",
   "name": "python",
   "nbconvert_exporter": "python",
   "pygments_lexer": "ipython3",
   "version": "3.9.13"
  }
 },
 "nbformat": 4,
 "nbformat_minor": 5
}
