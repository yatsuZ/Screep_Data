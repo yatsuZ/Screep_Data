{
 "cells": [
  {
   "cell_type": "code",
   "execution_count": null,
   "id": "8787a19c-0ab9-44ee-ba8e-71f3c6ee0cce",
   "metadata": {},
   "outputs": [],
   "source": [
    "with open('test.csv', 'wt',encoding='utf-8') as file:\n",
    "    writer = csv.writer(file)\n",
    "    writer.writerow(['Arrondissement', 'Neighborhood', 'Price', 'PriceMeter','MeterTot','RoomNbr','DescripAppart','DescripQuartier'])    \n",
    "    writer.writerows(data))"
   ]
  }
 ],
 "metadata": {
  "kernelspec": {
   "display_name": "Python 3 (ipykernel)",
   "language": "python",
   "name": "python3"
  },
  "language_info": {
   "codemirror_mode": {
    "name": "ipython",
    "version": 3
   },
   "file_extension": ".py",
   "mimetype": "text/x-python",
   "name": "python",
   "nbconvert_exporter": "python",
   "pygments_lexer": "ipython3",
   "version": "3.9.13"
  }
 },
 "nbformat": 4,
 "nbformat_minor": 5
}
